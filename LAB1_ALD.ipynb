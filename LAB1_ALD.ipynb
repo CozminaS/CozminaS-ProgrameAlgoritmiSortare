{
  "nbformat": 4,
  "nbformat_minor": 0,
  "metadata": {
    "colab": {
      "provenance": [],
      "toc_visible": true,
      "authorship_tag": "ABX9TyN7L4F78jdiFxk/WC2SQfK3",
      "include_colab_link": true
    },
    "kernelspec": {
      "name": "python3",
      "display_name": "Python 3"
    },
    "language_info": {
      "name": "python"
    }
  },
  "cells": [
    {
      "cell_type": "markdown",
      "metadata": {
        "id": "view-in-github",
        "colab_type": "text"
      },
      "source": [
        "<a href=\"https://colab.research.google.com/github/CozminaS/CozminaS-ProgrameAlgoritmiSortare/blob/main/LAB1_ALD.ipynb\" target=\"_parent\"><img src=\"https://colab.research.google.com/assets/colab-badge.svg\" alt=\"Open In Colab\"/></a>"
      ]
    },
    {
      "cell_type": "code",
      "execution_count": 35,
      "metadata": {
        "colab": {
          "base_uri": "https://localhost:8080/",
          "height": 58
        },
        "id": "Ve0on74sANXe",
        "outputId": "7a5697cb-6603-420f-defa-4bb17964a253"
      },
      "outputs": [
        {
          "output_type": "execute_result",
          "data": {
            "text/plain": [
              "Eq(y(x), (C1 + x**3/3)/x)"
            ],
            "text/latex": "$\\displaystyle y{\\left(x \\right)} = \\frac{C_{1} + \\frac{x^{3}}{3}}{x}$"
          },
          "metadata": {},
          "execution_count": 35
        }
      ],
      "source": [
        "##################Exerciitii\n",
        "\n",
        "#1.\n",
        "\n",
        "from sympy import *\n",
        "import matplotlib.pyplot as plt\n",
        "#Definirea variabilelor\n",
        "x=symbols('x')   #asta e independenta\n",
        "y=Function('y')  #asta e dependenta\n",
        "#Definirea ecuatiei diferentiale folosind Eq\n",
        "ed=Eq(x*y(x).diff(x)+y(x),x**2)  ###pentru a arata ordinul la ecuatie se scrie diff(x,x,x) odinul 3\n",
        "#Rezolvarea ecuatiei diferentiale\n",
        "sol=dsolve(ed)\n",
        "sol"
      ]
    },
    {
      "cell_type": "code",
      "source": [
        "#Verificarea solutiei pentru c1=3\n",
        "C1=symbols('C1')\n",
        "sol1=sol.rhs.subs(C1,3)  ##Mergem in solutia gasita mai sus si inlocuim constanta cu 3\n",
        "sol1\n",
        "#Grafic\n",
        "plot(sol1, (x, -5, 5), ylim = (-10, 10))"
      ],
      "metadata": {
        "colab": {
          "base_uri": "https://localhost:8080/",
          "height": 504
        },
        "id": "8dGT8IjgFGAP",
        "outputId": "5230599d-3694-42ad-975d-13250fd816f8"
      },
      "execution_count": 3,
      "outputs": [
        {
          "output_type": "display_data",
          "data": {
            "text/plain": [
              "<Figure size 640x480 with 1 Axes>"
            ],
            "image/png": "[encoded data removed]"
          },
          "metadata": {}
        },
        {
          "output_type": "execute_result",
          "data": {
            "text/plain": [
              "<sympy.plotting.plot.Plot at 0x794cb2c1bf70>"
            ]
          },
          "metadata": {},
          "execution_count": 3
        }
      ]
    },
    {
      "cell_type": "code",
      "source": [
        "#2.#Definirea variabilelor\n",
        "\n",
        "import math\n",
        "t=symbols('t')   #asta e independenta\n",
        "z=Function('z')  #asta e dependenta\n",
        "\n",
        "#Definirea ecuatiei diferentiale folosind Eq\n",
        "ed1=Eq(z(t).diff(t,t)+z(t),0)  ###pentru a arata ordinul la ecuatie se scrie diff(x,x,x) odinul 3\n",
        "#Rezolvarea ecuatiei diferentiale\n",
        "sol=dsolve(ed1)\n",
        "sol"
      ],
      "metadata": {
        "colab": {
          "base_uri": "https://localhost:8080/",
          "height": 39
        },
        "id": "U4KMVe2YFcx3",
        "outputId": "e81d7355-541b-467a-e53a-fd32ed81bbc2"
      },
      "execution_count": 4,
      "outputs": [
        {
          "output_type": "execute_result",
          "data": {
            "text/plain": [
              "Eq(z(t), C1*sin(t) + C2*cos(t))"
            ],
            "text/latex": "$\\displaystyle z{\\left(t \\right)} = C_{1} \\sin{\\left(t \\right)} + C_{2} \\cos{\\left(t \\right)}$"
          },
          "metadata": {},
          "execution_count": 4
        }
      ]
    },
    {
      "cell_type": "code",
      "source": [
        "####--------------\n",
        "#Conditie initiala\n",
        "#  desolve(sol, ics={y(x_0):y_0})"
      ],
      "metadata": {
        "id": "5TigtjtEJt4K"
      },
      "execution_count": null,
      "outputs": []
    },
    {
      "cell_type": "code",
      "source": [
        "## 3.\n",
        "\n",
        "#a.\n",
        "t=symbols('t')   #asta e independenta\n",
        "x=Function('x')  #asta e dependenta\n",
        "ed=Eq(x(t).diff(t)-(t**3),0)\n",
        "#Rezolvarea ecuatiei diferentiale\n",
        "sol=dsolve(ed,ics={x(1): 2})\n",
        "sol\n"
      ],
      "metadata": {
        "colab": {
          "base_uri": "https://localhost:8080/",
          "height": 54
        },
        "id": "bW0eyTOBLJoL",
        "outputId": "b9540dcc-0654-4508-a2f7-cf5a51f549ab"
      },
      "execution_count": 27,
      "outputs": [
        {
          "output_type": "execute_result",
          "data": {
            "text/plain": [
              "Eq(x(t), t**4/4 + 7/4)"
            ],
            "text/latex": "$\\displaystyle x{\\left(t \\right)} = \\frac{t^{4}}{4} + \\frac{7}{4}$"
          },
          "metadata": {},
          "execution_count": 27
        }
      ]
    },
    {
      "cell_type": "code",
      "source": [
        "#b\n",
        "\n",
        "x=symbols('x')   #asta e independenta\n",
        "y=Function('y')  #asta e dependenta\n",
        "#Definirea ecuatiei diferentiale folosind Eq\n",
        "ed=Eq(y(x).diff(x),x*exp(x))  ###pentru a arata ordinul la ecuatie se scrie diff(x,x,x) odinul 3\n",
        "#Rezolvarea ecuatiei diferentiale\n",
        "sol=dsolve(ed)\n",
        "sol"
      ],
      "metadata": {
        "colab": {
          "base_uri": "https://localhost:8080/",
          "height": 39
        },
        "id": "OV2mTgWHN8Ud",
        "outputId": "8f43d655-8d7d-426d-ba09-3921a38476ca"
      },
      "execution_count": 29,
      "outputs": [
        {
          "output_type": "execute_result",
          "data": {
            "text/plain": [
              "Eq(y(x), C1 + x*exp(x) - exp(x))"
            ],
            "text/latex": "$\\displaystyle y{\\left(x \\right)} = C_{1} + x e^{x} - e^{x}$"
          },
          "metadata": {},
          "execution_count": 29
        }
      ]
    },
    {
      "cell_type": "code",
      "source": [
        "#c\n",
        "import math\n",
        "\n",
        "x=symbols('x')\n",
        "y=Function('y')\n",
        "#f=math.sin(x)\n",
        "ed=Eq(y(x).diff(x), sin(x))\n",
        "sol=dsolve(ed, ics={y(math.pi/2):3})\n",
        "sol\n"
      ],
      "metadata": {
        "colab": {
          "base_uri": "https://localhost:8080/",
          "height": 39
        },
        "id": "2KZBOWZHFTZe",
        "outputId": "4e32d9dd-1c8f-454f-8333-b35017caca1d"
      },
      "execution_count": 33,
      "outputs": [
        {
          "output_type": "execute_result",
          "data": {
            "text/plain": [
              "Eq(y(x), 3.0 - cos(x))"
            ],
            "text/latex": "$\\displaystyle y{\\left(x \\right)} = 3.0 - \\cos{\\left(x \\right)}$"
          },
          "metadata": {},
          "execution_count": 33
        }
      ]
    },
    {
      "cell_type": "code",
      "source": [
        "#d\n",
        "y=symbols('y')\n",
        "x=Function('x')\n",
        "ed=Eq(x(y).diff(y), x(y)+1)\n",
        "sol=dsolve(ed)\n",
        "sol\n"
      ],
      "metadata": {
        "colab": {
          "base_uri": "https://localhost:8080/",
          "height": 39
        },
        "id": "qGYhMxJhJzJ7",
        "outputId": "975abe6c-280e-4435-c3bd-e4f65326534d"
      },
      "execution_count": 39,
      "outputs": [
        {
          "output_type": "execute_result",
          "data": {
            "text/plain": [
              "Eq(x(y), C1*exp(y) - 1)"
            ],
            "text/latex": "$\\displaystyle x{\\left(y \\right)} = C_{1} e^{y} - 1$"
          },
          "metadata": {},
          "execution_count": 39
        }
      ]
    },
    {
      "cell_type": "code",
      "source": [
        "#e\n",
        "t=symbols('t')\n",
        "x=Function('x')\n",
        "ed=Eq(x(y).diff(y), (2*t+1/t))\n",
        "sol=dsolve(ed, ics={x(1):2})\n",
        "sol\n"
      ],
      "metadata": {
        "colab": {
          "base_uri": "https://localhost:8080/",
          "height": 54
        },
        "id": "jh8lghw0KoIl",
        "outputId": "cc9b837b-57b0-4885-824b-014069e0b54c"
      },
      "execution_count": 42,
      "outputs": [
        {
          "output_type": "execute_result",
          "data": {
            "text/plain": [
              "Eq(x(y), 2*t*y + y/t + (-2*t**2 + 2*t - 1)/t)"
            ],
            "text/latex": "$\\displaystyle x{\\left(y \\right)} = 2 t y + \\frac{y}{t} + \\frac{- 2 t^{2} + 2 t - 1}{t}$"
          },
          "metadata": {},
          "execution_count": 42
        }
      ]
    },
    {
      "cell_type": "code",
      "source": [
        "#f\n",
        "x=symbols('x')\n",
        "y=Function('y')\n",
        "ed=Eq(y(x).diff(x), x*ln(x))\n",
        "sol=dsolve(ed, ics={y(1):3})\n",
        "sol\n"
      ],
      "metadata": {
        "colab": {
          "base_uri": "https://localhost:8080/",
          "height": 54
        },
        "id": "HYcK2X7nLFtI",
        "outputId": "566c9fdc-f4c3-4bfe-f0cb-add88d24d967"
      },
      "execution_count": 51,
      "outputs": [
        {
          "output_type": "execute_result",
          "data": {
            "text/plain": [
              "Eq(y(x), x**2*log(x)/2 - x**2/4 + 13/4)"
            ],
            "text/latex": "$\\displaystyle y{\\left(x \\right)} = \\frac{x^{2} \\log{\\left(x \\right)}}{2} - \\frac{x^{2}}{4} + \\frac{13}{4}$"
          },
          "metadata": {},
          "execution_count": 51
        }
      ]
    },
    {
      "cell_type": "code",
      "source": [],
      "metadata": {
        "id": "GyxPHWXiFTAz"
      },
      "execution_count": null,
      "outputs": []
    }
  ]
}